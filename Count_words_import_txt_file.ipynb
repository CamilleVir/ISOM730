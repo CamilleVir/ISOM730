{
  "nbformat": 4,
  "nbformat_minor": 0,
  "metadata": {
    "colab": {
      "name": "Count words_import txt file",
      "provenance": [],
      "collapsed_sections": [],
      "authorship_tag": "ABX9TyMlAmq4keHg4rkobliT7gPt",
      "include_colab_link": true
    },
    "kernelspec": {
      "name": "python3",
      "display_name": "Python 3"
    }
  },
  "cells": [
    {
      "cell_type": "markdown",
      "metadata": {
        "id": "view-in-github",
        "colab_type": "text"
      },
      "source": [
        "<a href=\"https://colab.research.google.com/github/CamilleVir/ISOM730/blob/master/Count_words_import_txt_file.ipynb\" target=\"_parent\"><img src=\"https://colab.research.google.com/assets/colab-badge.svg\" alt=\"Open In Colab\"/></a>"
      ]
    },
    {
      "cell_type": "code",
      "metadata": {
        "id": "ToYEMKExe0zc",
        "colab_type": "code",
        "colab": {
          "base_uri": "https://localhost:8080/",
          "height": 136
        },
        "outputId": "a5384561-d26d-41de-c27c-91fa7856fdca"
      },
      "source": [
        "fhand = open('romeotxt.txt')\n",
        "for line in fhand:\n",
        "  print (line)"
      ],
      "execution_count": 4,
      "outputs": [
        {
          "output_type": "stream",
          "text": [
            "But soft what light through yonder window breaks\n",
            "\n",
            "It is the east and Juliet is the sun\n",
            "\n",
            "Arise fair sun and kill the envious moon\n",
            "\n",
            "Who is already sick and pale with grief\n"
          ],
          "name": "stdout"
        }
      ]
    },
    {
      "cell_type": "code",
      "metadata": {
        "id": "brVyMhxvlXSL",
        "colab_type": "code",
        "colab": {
          "base_uri": "https://localhost:8080/",
          "height": 54
        },
        "outputId": "8f896975-77aa-4474-e7bc-4c2ca1177dd8"
      },
      "source": [
        "fhand = open('romeotxt.txt')\n",
        "counts={}\n",
        "for line in fhand:\n",
        "  words =line.split()\n",
        "  for word in words:\n",
        "    counts[word]=counts.get(word,0)+1\n",
        "\n",
        "print (counts)\n"
      ],
      "execution_count": 5,
      "outputs": [
        {
          "output_type": "stream",
          "text": [
            "{'But': 1, 'soft': 1, 'what': 1, 'light': 1, 'through': 1, 'yonder': 1, 'window': 1, 'breaks': 1, 'It': 1, 'is': 3, 'the': 3, 'east': 1, 'and': 3, 'Juliet': 1, 'sun': 2, 'Arise': 1, 'fair': 1, 'kill': 1, 'envious': 1, 'moon': 1, 'Who': 1, 'already': 1, 'sick': 1, 'pale': 1, 'with': 1, 'grief': 1}\n"
          ],
          "name": "stdout"
        }
      ]
    },
    {
      "cell_type": "code",
      "metadata": {
        "id": "vcub4DLUmoop",
        "colab_type": "code",
        "colab": {
          "base_uri": "https://localhost:8080/",
          "height": 71
        },
        "outputId": "3a4d7214-5b10-4f0d-af3f-49c74f6b3ce3"
      },
      "source": [
        "fhand = open('romeotxt.txt')\n",
        "counts={}\n",
        "for line in fhand:\n",
        "  words =line.split()\n",
        "  for word in words:\n",
        "    counts[word]=counts.get(word,0)+1\n",
        "\n",
        "print (counts)\n",
        "\n",
        "lst=[]\n",
        "for k, v in counts.items():\n",
        "  lst.append  ((v,k))\n",
        "print(sorted(lst,reverse=True))"
      ],
      "execution_count": 9,
      "outputs": [
        {
          "output_type": "stream",
          "text": [
            "{'But': 1, 'soft': 1, 'what': 1, 'light': 1, 'through': 1, 'yonder': 1, 'window': 1, 'breaks': 1, 'It': 1, 'is': 3, 'the': 3, 'east': 1, 'and': 3, 'Juliet': 1, 'sun': 2, 'Arise': 1, 'fair': 1, 'kill': 1, 'envious': 1, 'moon': 1, 'Who': 1, 'already': 1, 'sick': 1, 'pale': 1, 'with': 1, 'grief': 1}\n",
            "[(3, 'the'), (3, 'is'), (3, 'and'), (2, 'sun'), (1, 'yonder'), (1, 'with'), (1, 'window'), (1, 'what'), (1, 'through'), (1, 'soft'), (1, 'sick'), (1, 'pale'), (1, 'moon'), (1, 'light'), (1, 'kill'), (1, 'grief'), (1, 'fair'), (1, 'envious'), (1, 'east'), (1, 'breaks'), (1, 'already'), (1, 'Who'), (1, 'Juliet'), (1, 'It'), (1, 'But'), (1, 'Arise')]\n"
          ],
          "name": "stdout"
        }
      ]
    },
    {
      "cell_type": "code",
      "metadata": {
        "id": "lEE7luKMm90q",
        "colab_type": "code",
        "colab": {}
      },
      "source": [
        ""
      ],
      "execution_count": 0,
      "outputs": []
    }
  ]
}