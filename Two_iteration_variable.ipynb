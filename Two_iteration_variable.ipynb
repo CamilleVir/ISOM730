{
  "nbformat": 4,
  "nbformat_minor": 0,
  "metadata": {
    "colab": {
      "name": "Two_iteration_variable.ipynb",
      "provenance": [],
      "authorship_tag": "ABX9TyPwdtbBMKdhWFqPthiPdj3n",
      "include_colab_link": true
    },
    "kernelspec": {
      "name": "python3",
      "display_name": "Python 3"
    }
  },
  "cells": [
    {
      "cell_type": "markdown",
      "metadata": {
        "id": "view-in-github",
        "colab_type": "text"
      },
      "source": [
        "<a href=\"https://colab.research.google.com/github/CamilleVir/ISOM730/blob/master/Two_iteration_variable.ipynb\" target=\"_parent\"><img src=\"https://colab.research.google.com/assets/colab-badge.svg\" alt=\"Open In Colab\"/></a>"
      ]
    },
    {
      "cell_type": "code",
      "metadata": {
        "id": "JSzHEf2MZAso",
        "colab_type": "code",
        "colab": {
          "base_uri": "https://localhost:8080/",
          "height": 51
        },
        "outputId": "6c0ade7f-641e-4878-8c01-9fd6a40658c4"
      },
      "source": [
        "jjj={'a':10,'b':20}\n",
        "for x,y in jjj.items():\n",
        "  print(x,y)"
      ],
      "execution_count": 1,
      "outputs": [
        {
          "output_type": "stream",
          "text": [
            "a 10\n",
            "b 20\n"
          ],
          "name": "stdout"
        }
      ]
    }
  ]
}